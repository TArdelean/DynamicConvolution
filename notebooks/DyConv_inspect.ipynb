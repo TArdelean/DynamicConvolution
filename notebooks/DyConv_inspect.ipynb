{
  "nbformat": 4,
  "nbformat_minor": 0,
  "metadata": {
    "accelerator": "GPU",
    "colab": {
      "name": "DyConv_inspect.ipynb",
      "provenance": [],
      "collapsed_sections": []
    },
    "kernelspec": {
      "display_name": "Python 3",
      "name": "python3"
    },
    "language_info": {
      "name": "python"
    }
  },
  "cells": [
    {
      "cell_type": "code",
      "metadata": {
        "colab": {
          "base_uri": "https://localhost:8080/"
        },
        "id": "DfNFwlN6yKTL",
        "outputId": "490062d8-23ca-4c88-b912-34494b85603a"
      },
      "source": [
        "from google.colab import drive\n",
        "drive.mount('/content/drive')\n",
        "\n",
        "root_dir = '/content/drive/MyDrive/DynamicConvolution'"
      ],
      "execution_count": 1,
      "outputs": [
        {
          "output_type": "stream",
          "text": [
            "Drive already mounted at /content/drive; to attempt to forcibly remount, call drive.mount(\"/content/drive\", force_remount=True).\n"
          ],
          "name": "stdout"
        }
      ]
    },
    {
      "cell_type": "code",
      "metadata": {
        "id": "fHkeeKVnyUh1"
      },
      "source": [
        "import os\n",
        "import sys\n",
        "sys.path.append(root_dir)"
      ],
      "execution_count": 2,
      "outputs": []
    },
    {
      "cell_type": "code",
      "metadata": {
        "colab": {
          "base_uri": "https://localhost:8080/"
        },
        "id": "HFcpC9UjyU56",
        "outputId": "224a794b-38f7-4a8d-8675-1cf498aefb4b"
      },
      "source": [
        "from utils.options import Options\n",
        "import inspect_attention\n",
        "from inspect_attention import *\n",
        "\n",
        "\n",
        "experiment_name = \"Resnet_DY_05\"\n",
        "epoch = 100\n",
        "\n",
        "experiment_path = os.path.join(root_dir, \"experiments\", experiment_name)\n",
        "\n",
        "opt = Options(config_file_arg=\"config_path\", suppress_parse=True)\n",
        "opt.load_from_file(os.path.join(experiment_path, \"config.yaml\"))\n",
        "opt.experiments = os.path.join(root_dir, \"experiments\")\n",
        "opt.checkpoint_path = os.path.join(experiment_path, f\"{experiment_name}_{epoch}.pth\")\n",
        "\n",
        "assert opt.use_dynamic"
      ],
      "execution_count": 3,
      "outputs": [
        {
          "output_type": "stream",
          "text": [
            "Warning: redundant option checkpoints_dir\n"
          ],
          "name": "stdout"
        }
      ]
    },
    {
      "cell_type": "code",
      "metadata": {
        "colab": {
          "base_uri": "https://localhost:8080/"
        },
        "id": "-PCFH_ajyd1w",
        "outputId": "2b21c327-717b-4b3b-c312-b7bf00da9e08"
      },
      "source": [
        "opt.__dict__"
      ],
      "execution_count": 4,
      "outputs": [
        {
          "output_type": "execute_result",
          "data": {
            "text/plain": [
              "{'_config_file_arg': 'config_path',\n",
              " 'batch_size': 64,\n",
              " 'checkpoint_path': '/content/drive/MyDrive/DynamicConvolution/experiments/Resnet_DY_05/Resnet_DY_05_100.pth',\n",
              " 'config_path': '',\n",
              " 'criterion': 'SmoothNLLLoss',\n",
              " 'criterion_args': (0.1,),\n",
              " 'dataset_class': 'TinyImageNet_dataset',\n",
              " 'device': 'cuda',\n",
              " 'experiment_name': 'Resnet_DY_05',\n",
              " 'experiments': '/content/drive/MyDrive/DynamicConvolution/experiments',\n",
              " 'max_epoch': 100,\n",
              " 'model_class': 'ResNet10',\n",
              " 'model_extra_args': (0.5,),\n",
              " 'nof_kernels': 4,\n",
              " 'num_workers': 2,\n",
              " 'optimizer': 'SGD',\n",
              " 'optimizer_args': (0.1, 0.9, 0, 0.0001),\n",
              " 'reduce': 4,\n",
              " 'save_freq': 5,\n",
              " 'scheduler': 'StepLR',\n",
              " 'scheduler_args': (30, 0.1),\n",
              " 'temperature': (30, 1, 10),\n",
              " 'use_dynamic': True}"
            ]
          },
          "metadata": {
            "tags": []
          },
          "execution_count": 4
        }
      ]
    },
    {
      "cell_type": "code",
      "metadata": {
        "id": "6o7bywvRWBtc"
      },
      "source": [
        "model = get_inspect_model(opt)"
      ],
      "execution_count": 5,
      "outputs": []
    },
    {
      "cell_type": "code",
      "metadata": {
        "id": "Un5l_kwyZnXy"
      },
      "source": [
        "# train_dl = data.create_data_loader(opt, \"train\")\n",
        "# inspect_attention.attentions_register = {}\n",
        "# test_score = test(model, opt.temperature[1], train_dl, opt.device)\n",
        "# print(\"Train score:\", test_score)"
      ],
      "execution_count": 6,
      "outputs": []
    },
    {
      "cell_type": "code",
      "metadata": {
        "id": "M6P3QwD4z4E5",
        "colab": {
          "base_uri": "https://localhost:8080/"
        },
        "outputId": "d5b998ff-9e51-433e-9a3f-3c09f3e8017e"
      },
      "source": [
        "test_dl = data.create_data_loader(opt, \"test\")\n",
        "inspect_attention.attentions_register = {}\n",
        "test_score = test(model, opt.temperature[1], test_dl, opt.device)\n",
        "print(\"Test score:\", test_score)"
      ],
      "execution_count": 7,
      "outputs": [
        {
          "output_type": "stream",
          "text": [
            "Test score: 0.5392\n"
          ],
          "name": "stdout"
        }
      ]
    },
    {
      "cell_type": "code",
      "metadata": {
        "colab": {
          "base_uri": "https://localhost:8080/"
        },
        "id": "ywe6bDAyA2kf",
        "outputId": "d90da4ec-1906-49be-a893-c324dbfa3aec"
      },
      "source": [
        "compute_entropy(inspect_attention.attentions_register)"
      ],
      "execution_count": 8,
      "outputs": [
        {
          "output_type": "execute_result",
          "data": {
            "text/plain": [
              "{'14x14': tensor(1.0643),\n",
              " '28x28': tensor(1.2968),\n",
              " '56x56': tensor(1.3518),\n",
              " '7x7': tensor(1.0041)}"
            ]
          },
          "metadata": {
            "tags": []
          },
          "execution_count": 8
        }
      ]
    },
    {
      "cell_type": "code",
      "metadata": {
        "id": "sLHm-OwM6C6A"
      },
      "source": [
        "import pandas as pd\n",
        "import matplotlib.pyplot as plt\n",
        "import seaborn as sns\n",
        "\n",
        "def to_pandas(register):\n",
        "  labels = []\n",
        "  values = []\n",
        "  for resolution, t_list in register.items():\n",
        "    t = torch.cat(t_list)\n",
        "    labels.extend([resolution] * len(t))\n",
        "    values.extend(torch.distributions.Categorical(t).entropy().tolist())\n",
        "  return pd.DataFrame({'Resolution': labels, 'Entropy': values})"
      ],
      "execution_count": 9,
      "outputs": []
    },
    {
      "cell_type": "code",
      "metadata": {
        "colab": {
          "base_uri": "https://localhost:8080/",
          "height": 456
        },
        "id": "JX-dv4J97X5-",
        "outputId": "fd7a9b4c-d61e-4f8f-8225-adc1fa7f3056"
      },
      "source": [
        "df = to_pandas(inspect_attention.attentions_register)\n",
        "fig, _ = plt.subplots(figsize = (12, 7))\n",
        "b = sns.boxplot(data=df, x=\"Resolution\", y=\"Entropy\")\n",
        "\n",
        "b.set_xlabel(\"Resolution\",fontsize=20)\n",
        "b.set_ylabel(\"Entropy\",fontsize=20)\n",
        "b.tick_params(labelsize=16)"
      ],
      "execution_count": 10,
      "outputs": [
        {
          "output_type": "display_data",
          "data": {
            "image/png": "[encoded data removed]",
            "text/plain": [
              "<Figure size 864x504 with 1 Axes>"
            ]
          },
          "metadata": {
            "tags": [],
            "needs_background": "light"
          }
        }
      ]
    },
    {
      "cell_type": "code",
      "metadata": {
        "id": "8G61e7Qi7nju"
      },
      "source": [
        "fig.savefig(\"plot.pdf\", bbox_inches='tight')"
      ],
      "execution_count": 11,
      "outputs": []
    },
    {
      "cell_type": "code",
      "metadata": {
        "id": "tN6L0WvP5InD"
      },
      "source": [
        ""
      ],
      "execution_count": 11,
      "outputs": []
    }
  ]
}